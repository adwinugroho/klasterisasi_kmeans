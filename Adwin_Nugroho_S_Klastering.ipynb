{
  "nbformat": 4,
  "nbformat_minor": 0,
  "metadata": {
    "colab": {
      "name": "Adwin_Nugroho_S-MID-TEST_Klastering.ipynb",
      "provenance": []
    },
    "kernelspec": {
      "name": "python3",
      "display_name": "Python 3"
    }
  },
  "cells": [
    {
      "cell_type": "markdown",
      "metadata": {
        "id": "Vu47RFveBVes",
        "colab_type": "text"
      },
      "source": [
        "# MID TEST FGA-MACHINE LEARNING UMM\n",
        "Disini saya akan mengimplementasikan salah satu metode klastering dari dataset survivalbilitas korban kapal titanic, data tersebut dapat anda download disini: https://tinyurl.com/fga-titanic "
      ]
    },
    {
      "cell_type": "markdown",
      "metadata": {
        "id": "fbTPwPOSVZMU",
        "colab_type": "text"
      },
      "source": [
        "**Oleh Adwin Nugroho S**"
      ]
    },
    {
      "cell_type": "code",
      "metadata": {
        "id": "vk9Uub_OT2Wm",
        "colab_type": "code",
        "colab": {}
      },
      "source": [
        "#import semua library yang akan digunakan\n",
        "import random \n",
        "import numpy as np\n",
        "import pandas as pd\n",
        "import matplotlib.pyplot as pl\n",
        "import scipy as ndimage\n",
        "from scipy.cluster import hierarchy\n",
        "from scipy.spatial import distance_matrix\n",
        "from sklearn import manifold, datasets\n",
        "from sklearn.cluster import KMeans\n",
        "from sklearn.cluster import AgglomerativeClustering \n",
        "from sklearn.datasets.samples_generator import make_blobs"
      ],
      "execution_count": 0,
      "outputs": []
    },
    {
      "cell_type": "code",
      "metadata": {
        "id": "FfVMtN0lUFwE",
        "colab_type": "code",
        "colab": {
          "base_uri": "https://localhost:8080/",
          "height": 374
        },
        "outputId": "d0e97105-1c1e-4314-e0c3-e4acf6ebc726"
      },
      "source": [
        "#download dataset yang akan diklastering dengan perintah dibawah\n",
        "!wget -O titanic.csv https://tinyurl.com/fga-titanic #titanic.csv adalah nama file yang akan tersimpan"
      ],
      "execution_count": 5,
      "outputs": [
        {
          "output_type": "stream",
          "text": [
            "--2019-10-18 14:48:12--  https://tinyurl.com/fga-titanic\n",
            "Resolving tinyurl.com (tinyurl.com)... 104.20.219.42, 104.20.218.42, 2606:4700:10::6814:da2a, ...\n",
            "Connecting to tinyurl.com (tinyurl.com)|104.20.219.42|:443... connected.\n",
            "HTTP request sent, awaiting response... 301 Moved Permanently\n",
            "Location: https://github.com/mwaskom/seaborn-data/raw/master/titanic.csv [following]\n",
            "--2019-10-18 14:48:12--  https://github.com/mwaskom/seaborn-data/raw/master/titanic.csv\n",
            "Resolving github.com (github.com)... 192.30.253.112\n",
            "Connecting to github.com (github.com)|192.30.253.112|:443... connected.\n",
            "HTTP request sent, awaiting response... 302 Found\n",
            "Location: https://raw.githubusercontent.com/mwaskom/seaborn-data/master/titanic.csv [following]\n",
            "--2019-10-18 14:48:12--  https://raw.githubusercontent.com/mwaskom/seaborn-data/master/titanic.csv\n",
            "Resolving raw.githubusercontent.com (raw.githubusercontent.com)... 151.101.0.133, 151.101.64.133, 151.101.128.133, ...\n",
            "Connecting to raw.githubusercontent.com (raw.githubusercontent.com)|151.101.0.133|:443... connected.\n",
            "HTTP request sent, awaiting response... 200 OK\n",
            "Length: 57018 (56K) [text/plain]\n",
            "Saving to: ‘titanic.csv’\n",
            "\n",
            "\rtitanic.csv           0%[                    ]       0  --.-KB/s               \rtitanic.csv         100%[===================>]  55.68K  --.-KB/s    in 0.01s   \n",
            "\n",
            "2019-10-18 14:48:12 (3.87 MB/s) - ‘titanic.csv’ saved [57018/57018]\n",
            "\n"
          ],
          "name": "stdout"
        }
      ]
    },
    {
      "cell_type": "code",
      "metadata": {
        "id": "glfwKh_mVn2A",
        "colab_type": "code",
        "colab": {}
      },
      "source": [
        "#panggil dataset yang telah di download, disini saya menginisialisasi dengan nama titanic.csv\n",
        "dataset_titanic = pd.read_csv('/content/titanic.csv')"
      ],
      "execution_count": 0,
      "outputs": []
    },
    {
      "cell_type": "code",
      "metadata": {
        "id": "59nA9t-CWBU6",
        "colab_type": "code",
        "colab": {
          "base_uri": "https://localhost:8080/",
          "height": 204
        },
        "outputId": "cdeb849f-69ed-4719-d00b-00c4ad64b430"
      },
      "source": [
        "#lihat data dengan perintah berikut\n",
        "dataset_titanic.head()"
      ],
      "execution_count": 13,
      "outputs": [
        {
          "output_type": "execute_result",
          "data": {
            "text/html": [
              "<div>\n",
              "<style scoped>\n",
              "    .dataframe tbody tr th:only-of-type {\n",
              "        vertical-align: middle;\n",
              "    }\n",
              "\n",
              "    .dataframe tbody tr th {\n",
              "        vertical-align: top;\n",
              "    }\n",
              "\n",
              "    .dataframe thead th {\n",
              "        text-align: right;\n",
              "    }\n",
              "</style>\n",
              "<table border=\"1\" class=\"dataframe\">\n",
              "  <thead>\n",
              "    <tr style=\"text-align: right;\">\n",
              "      <th></th>\n",
              "      <th>survived</th>\n",
              "      <th>pclass</th>\n",
              "      <th>sex</th>\n",
              "      <th>age</th>\n",
              "      <th>sibsp</th>\n",
              "      <th>parch</th>\n",
              "      <th>fare</th>\n",
              "      <th>embarked</th>\n",
              "      <th>class</th>\n",
              "      <th>who</th>\n",
              "      <th>adult_male</th>\n",
              "      <th>deck</th>\n",
              "      <th>embark_town</th>\n",
              "      <th>alive</th>\n",
              "      <th>alone</th>\n",
              "    </tr>\n",
              "  </thead>\n",
              "  <tbody>\n",
              "    <tr>\n",
              "      <th>0</th>\n",
              "      <td>0</td>\n",
              "      <td>3</td>\n",
              "      <td>male</td>\n",
              "      <td>22.0</td>\n",
              "      <td>1</td>\n",
              "      <td>0</td>\n",
              "      <td>7.2500</td>\n",
              "      <td>S</td>\n",
              "      <td>Third</td>\n",
              "      <td>man</td>\n",
              "      <td>True</td>\n",
              "      <td>NaN</td>\n",
              "      <td>Southampton</td>\n",
              "      <td>no</td>\n",
              "      <td>False</td>\n",
              "    </tr>\n",
              "    <tr>\n",
              "      <th>1</th>\n",
              "      <td>1</td>\n",
              "      <td>1</td>\n",
              "      <td>female</td>\n",
              "      <td>38.0</td>\n",
              "      <td>1</td>\n",
              "      <td>0</td>\n",
              "      <td>71.2833</td>\n",
              "      <td>C</td>\n",
              "      <td>First</td>\n",
              "      <td>woman</td>\n",
              "      <td>False</td>\n",
              "      <td>C</td>\n",
              "      <td>Cherbourg</td>\n",
              "      <td>yes</td>\n",
              "      <td>False</td>\n",
              "    </tr>\n",
              "    <tr>\n",
              "      <th>2</th>\n",
              "      <td>1</td>\n",
              "      <td>3</td>\n",
              "      <td>female</td>\n",
              "      <td>26.0</td>\n",
              "      <td>0</td>\n",
              "      <td>0</td>\n",
              "      <td>7.9250</td>\n",
              "      <td>S</td>\n",
              "      <td>Third</td>\n",
              "      <td>woman</td>\n",
              "      <td>False</td>\n",
              "      <td>NaN</td>\n",
              "      <td>Southampton</td>\n",
              "      <td>yes</td>\n",
              "      <td>True</td>\n",
              "    </tr>\n",
              "    <tr>\n",
              "      <th>3</th>\n",
              "      <td>1</td>\n",
              "      <td>1</td>\n",
              "      <td>female</td>\n",
              "      <td>35.0</td>\n",
              "      <td>1</td>\n",
              "      <td>0</td>\n",
              "      <td>53.1000</td>\n",
              "      <td>S</td>\n",
              "      <td>First</td>\n",
              "      <td>woman</td>\n",
              "      <td>False</td>\n",
              "      <td>C</td>\n",
              "      <td>Southampton</td>\n",
              "      <td>yes</td>\n",
              "      <td>False</td>\n",
              "    </tr>\n",
              "    <tr>\n",
              "      <th>4</th>\n",
              "      <td>0</td>\n",
              "      <td>3</td>\n",
              "      <td>male</td>\n",
              "      <td>35.0</td>\n",
              "      <td>0</td>\n",
              "      <td>0</td>\n",
              "      <td>8.0500</td>\n",
              "      <td>S</td>\n",
              "      <td>Third</td>\n",
              "      <td>man</td>\n",
              "      <td>True</td>\n",
              "      <td>NaN</td>\n",
              "      <td>Southampton</td>\n",
              "      <td>no</td>\n",
              "      <td>True</td>\n",
              "    </tr>\n",
              "  </tbody>\n",
              "</table>\n",
              "</div>"
            ],
            "text/plain": [
              "   survived  pclass     sex   age  ...  deck  embark_town  alive  alone\n",
              "0         0       3    male  22.0  ...   NaN  Southampton     no  False\n",
              "1         1       1  female  38.0  ...     C    Cherbourg    yes  False\n",
              "2         1       3  female  26.0  ...   NaN  Southampton    yes   True\n",
              "3         1       1  female  35.0  ...     C  Southampton    yes  False\n",
              "4         0       3    male  35.0  ...   NaN  Southampton     no   True\n",
              "\n",
              "[5 rows x 15 columns]"
            ]
          },
          "metadata": {
            "tags": []
          },
          "execution_count": 13
        }
      ]
    },
    {
      "cell_type": "code",
      "metadata": {
        "id": "jJDcd0tkWHAl",
        "colab_type": "code",
        "colab": {
          "base_uri": "https://localhost:8080/",
          "height": 238
        },
        "outputId": "a45cc078-ee86-47d8-847a-59f897913039"
      },
      "source": [
        "print (\"Shape of dataset before cleaning: \", dataset_titanic.size)\n",
        "dataset_titanic[['survived', 'pclass', 'age','fare']] = dataset_titanic[['survived', 'pclass', 'age','fare']].apply(pd.to_numeric, errors='coerce')\n",
        "dataset_titanic = dataset_titanic.dropna()\n",
        "dataset_titanic = dataset_titanic.reset_index(drop=True)\n",
        "print (\"Shape of dataset after cleaning: \", dataset_titanic.size)\n",
        "dataset_titanic.head(5)\n",
        "#yang dipakai untuk klasterisasi disini hanya survived, pclass, age, fare\n",
        "#perintah diatas dilakukan ybtyj menghilang data yang tidak ada isinya (NaN)"
      ],
      "execution_count": 14,
      "outputs": [
        {
          "output_type": "stream",
          "text": [
            "Shape of dataset before cleaning:  13365\n",
            "Shape of dataset after cleaning:  2730\n"
          ],
          "name": "stdout"
        },
        {
          "output_type": "execute_result",
          "data": {
            "text/html": [
              "<div>\n",
              "<style scoped>\n",
              "    .dataframe tbody tr th:only-of-type {\n",
              "        vertical-align: middle;\n",
              "    }\n",
              "\n",
              "    .dataframe tbody tr th {\n",
              "        vertical-align: top;\n",
              "    }\n",
              "\n",
              "    .dataframe thead th {\n",
              "        text-align: right;\n",
              "    }\n",
              "</style>\n",
              "<table border=\"1\" class=\"dataframe\">\n",
              "  <thead>\n",
              "    <tr style=\"text-align: right;\">\n",
              "      <th></th>\n",
              "      <th>survived</th>\n",
              "      <th>pclass</th>\n",
              "      <th>sex</th>\n",
              "      <th>age</th>\n",
              "      <th>sibsp</th>\n",
              "      <th>parch</th>\n",
              "      <th>fare</th>\n",
              "      <th>embarked</th>\n",
              "      <th>class</th>\n",
              "      <th>who</th>\n",
              "      <th>adult_male</th>\n",
              "      <th>deck</th>\n",
              "      <th>embark_town</th>\n",
              "      <th>alive</th>\n",
              "      <th>alone</th>\n",
              "    </tr>\n",
              "  </thead>\n",
              "  <tbody>\n",
              "    <tr>\n",
              "      <th>0</th>\n",
              "      <td>1</td>\n",
              "      <td>1</td>\n",
              "      <td>female</td>\n",
              "      <td>38.0</td>\n",
              "      <td>1</td>\n",
              "      <td>0</td>\n",
              "      <td>71.2833</td>\n",
              "      <td>C</td>\n",
              "      <td>First</td>\n",
              "      <td>woman</td>\n",
              "      <td>False</td>\n",
              "      <td>C</td>\n",
              "      <td>Cherbourg</td>\n",
              "      <td>yes</td>\n",
              "      <td>False</td>\n",
              "    </tr>\n",
              "    <tr>\n",
              "      <th>1</th>\n",
              "      <td>1</td>\n",
              "      <td>1</td>\n",
              "      <td>female</td>\n",
              "      <td>35.0</td>\n",
              "      <td>1</td>\n",
              "      <td>0</td>\n",
              "      <td>53.1000</td>\n",
              "      <td>S</td>\n",
              "      <td>First</td>\n",
              "      <td>woman</td>\n",
              "      <td>False</td>\n",
              "      <td>C</td>\n",
              "      <td>Southampton</td>\n",
              "      <td>yes</td>\n",
              "      <td>False</td>\n",
              "    </tr>\n",
              "    <tr>\n",
              "      <th>2</th>\n",
              "      <td>0</td>\n",
              "      <td>1</td>\n",
              "      <td>male</td>\n",
              "      <td>54.0</td>\n",
              "      <td>0</td>\n",
              "      <td>0</td>\n",
              "      <td>51.8625</td>\n",
              "      <td>S</td>\n",
              "      <td>First</td>\n",
              "      <td>man</td>\n",
              "      <td>True</td>\n",
              "      <td>E</td>\n",
              "      <td>Southampton</td>\n",
              "      <td>no</td>\n",
              "      <td>True</td>\n",
              "    </tr>\n",
              "    <tr>\n",
              "      <th>3</th>\n",
              "      <td>1</td>\n",
              "      <td>3</td>\n",
              "      <td>female</td>\n",
              "      <td>4.0</td>\n",
              "      <td>1</td>\n",
              "      <td>1</td>\n",
              "      <td>16.7000</td>\n",
              "      <td>S</td>\n",
              "      <td>Third</td>\n",
              "      <td>child</td>\n",
              "      <td>False</td>\n",
              "      <td>G</td>\n",
              "      <td>Southampton</td>\n",
              "      <td>yes</td>\n",
              "      <td>False</td>\n",
              "    </tr>\n",
              "    <tr>\n",
              "      <th>4</th>\n",
              "      <td>1</td>\n",
              "      <td>1</td>\n",
              "      <td>female</td>\n",
              "      <td>58.0</td>\n",
              "      <td>0</td>\n",
              "      <td>0</td>\n",
              "      <td>26.5500</td>\n",
              "      <td>S</td>\n",
              "      <td>First</td>\n",
              "      <td>woman</td>\n",
              "      <td>False</td>\n",
              "      <td>C</td>\n",
              "      <td>Southampton</td>\n",
              "      <td>yes</td>\n",
              "      <td>True</td>\n",
              "    </tr>\n",
              "  </tbody>\n",
              "</table>\n",
              "</div>"
            ],
            "text/plain": [
              "   survived  pclass     sex   age  ...  deck  embark_town  alive  alone\n",
              "0         1       1  female  38.0  ...     C    Cherbourg    yes  False\n",
              "1         1       1  female  35.0  ...     C  Southampton    yes  False\n",
              "2         0       1    male  54.0  ...     E  Southampton     no   True\n",
              "3         1       3  female   4.0  ...     G  Southampton    yes  False\n",
              "4         1       1  female  58.0  ...     C  Southampton    yes   True\n",
              "\n",
              "[5 rows x 15 columns]"
            ]
          },
          "metadata": {
            "tags": []
          },
          "execution_count": 14
        }
      ]
    },
    {
      "cell_type": "code",
      "metadata": {
        "id": "vP32hYA6XZbv",
        "colab_type": "code",
        "colab": {
          "base_uri": "https://localhost:8080/",
          "height": 357
        },
        "outputId": "d5844762-b9c5-4c48-d9b9-0dc53958758c"
      },
      "source": [
        "#lihat info data dengan detail dengan perintah berikut\n",
        "dataset_titanic.info()"
      ],
      "execution_count": 15,
      "outputs": [
        {
          "output_type": "stream",
          "text": [
            "<class 'pandas.core.frame.DataFrame'>\n",
            "RangeIndex: 182 entries, 0 to 181\n",
            "Data columns (total 15 columns):\n",
            "survived       182 non-null int64\n",
            "pclass         182 non-null int64\n",
            "sex            182 non-null object\n",
            "age            182 non-null float64\n",
            "sibsp          182 non-null int64\n",
            "parch          182 non-null int64\n",
            "fare           182 non-null float64\n",
            "embarked       182 non-null object\n",
            "class          182 non-null object\n",
            "who            182 non-null object\n",
            "adult_male     182 non-null bool\n",
            "deck           182 non-null object\n",
            "embark_town    182 non-null object\n",
            "alive          182 non-null object\n",
            "alone          182 non-null bool\n",
            "dtypes: bool(2), float64(2), int64(4), object(7)\n",
            "memory usage: 18.9+ KB\n"
          ],
          "name": "stdout"
        }
      ]
    },
    {
      "cell_type": "code",
      "metadata": {
        "id": "l_c4E4SLaNJ0",
        "colab_type": "code",
        "colab": {
          "base_uri": "https://localhost:8080/",
          "height": 204
        },
        "outputId": "d5854bc5-da5d-4496-f4b4-cb876b122436"
      },
      "source": [
        "#syarat klaster data harus berupa numeric jadi kita hanya pakai data dibawah\n",
        "data = dataset_titanic[['survived', 'pclass', 'age','fare']]\n",
        "data.head()"
      ],
      "execution_count": 46,
      "outputs": [
        {
          "output_type": "execute_result",
          "data": {
            "text/html": [
              "<div>\n",
              "<style scoped>\n",
              "    .dataframe tbody tr th:only-of-type {\n",
              "        vertical-align: middle;\n",
              "    }\n",
              "\n",
              "    .dataframe tbody tr th {\n",
              "        vertical-align: top;\n",
              "    }\n",
              "\n",
              "    .dataframe thead th {\n",
              "        text-align: right;\n",
              "    }\n",
              "</style>\n",
              "<table border=\"1\" class=\"dataframe\">\n",
              "  <thead>\n",
              "    <tr style=\"text-align: right;\">\n",
              "      <th></th>\n",
              "      <th>survived</th>\n",
              "      <th>pclass</th>\n",
              "      <th>age</th>\n",
              "      <th>fare</th>\n",
              "    </tr>\n",
              "  </thead>\n",
              "  <tbody>\n",
              "    <tr>\n",
              "      <th>0</th>\n",
              "      <td>1</td>\n",
              "      <td>1</td>\n",
              "      <td>38.0</td>\n",
              "      <td>71.2833</td>\n",
              "    </tr>\n",
              "    <tr>\n",
              "      <th>1</th>\n",
              "      <td>1</td>\n",
              "      <td>1</td>\n",
              "      <td>35.0</td>\n",
              "      <td>53.1000</td>\n",
              "    </tr>\n",
              "    <tr>\n",
              "      <th>2</th>\n",
              "      <td>0</td>\n",
              "      <td>1</td>\n",
              "      <td>54.0</td>\n",
              "      <td>51.8625</td>\n",
              "    </tr>\n",
              "    <tr>\n",
              "      <th>3</th>\n",
              "      <td>1</td>\n",
              "      <td>3</td>\n",
              "      <td>4.0</td>\n",
              "      <td>16.7000</td>\n",
              "    </tr>\n",
              "    <tr>\n",
              "      <th>4</th>\n",
              "      <td>1</td>\n",
              "      <td>1</td>\n",
              "      <td>58.0</td>\n",
              "      <td>26.5500</td>\n",
              "    </tr>\n",
              "  </tbody>\n",
              "</table>\n",
              "</div>"
            ],
            "text/plain": [
              "   survived  pclass   age     fare\n",
              "0         1       1  38.0  71.2833\n",
              "1         1       1  35.0  53.1000\n",
              "2         0       1  54.0  51.8625\n",
              "3         1       3   4.0  16.7000\n",
              "4         1       1  58.0  26.5500"
            ]
          },
          "metadata": {
            "tags": []
          },
          "execution_count": 46
        }
      ]
    },
    {
      "cell_type": "code",
      "metadata": {
        "id": "h5zCjkRrbKQg",
        "colab_type": "code",
        "colab": {
          "base_uri": "https://localhost:8080/",
          "height": 297
        },
        "outputId": "a97ac37a-77af-409a-c628-c77b9112f9f0"
      },
      "source": [
        "#deskripsikan data untuk melihat informasi seperti berapa rata-ratanya dengan perintah\n",
        "dataset_titanic.describe()"
      ],
      "execution_count": 47,
      "outputs": [
        {
          "output_type": "execute_result",
          "data": {
            "text/html": [
              "<div>\n",
              "<style scoped>\n",
              "    .dataframe tbody tr th:only-of-type {\n",
              "        vertical-align: middle;\n",
              "    }\n",
              "\n",
              "    .dataframe tbody tr th {\n",
              "        vertical-align: top;\n",
              "    }\n",
              "\n",
              "    .dataframe thead th {\n",
              "        text-align: right;\n",
              "    }\n",
              "</style>\n",
              "<table border=\"1\" class=\"dataframe\">\n",
              "  <thead>\n",
              "    <tr style=\"text-align: right;\">\n",
              "      <th></th>\n",
              "      <th>survived</th>\n",
              "      <th>pclass</th>\n",
              "      <th>age</th>\n",
              "      <th>sibsp</th>\n",
              "      <th>parch</th>\n",
              "      <th>fare</th>\n",
              "    </tr>\n",
              "  </thead>\n",
              "  <tbody>\n",
              "    <tr>\n",
              "      <th>count</th>\n",
              "      <td>182.000000</td>\n",
              "      <td>182.000000</td>\n",
              "      <td>182.000000</td>\n",
              "      <td>182.000000</td>\n",
              "      <td>182.000000</td>\n",
              "      <td>182.000000</td>\n",
              "    </tr>\n",
              "    <tr>\n",
              "      <th>mean</th>\n",
              "      <td>0.675824</td>\n",
              "      <td>1.192308</td>\n",
              "      <td>35.623187</td>\n",
              "      <td>0.467033</td>\n",
              "      <td>0.478022</td>\n",
              "      <td>78.919735</td>\n",
              "    </tr>\n",
              "    <tr>\n",
              "      <th>std</th>\n",
              "      <td>0.469357</td>\n",
              "      <td>0.516411</td>\n",
              "      <td>15.671615</td>\n",
              "      <td>0.645007</td>\n",
              "      <td>0.755869</td>\n",
              "      <td>76.490774</td>\n",
              "    </tr>\n",
              "    <tr>\n",
              "      <th>min</th>\n",
              "      <td>0.000000</td>\n",
              "      <td>1.000000</td>\n",
              "      <td>0.920000</td>\n",
              "      <td>0.000000</td>\n",
              "      <td>0.000000</td>\n",
              "      <td>0.000000</td>\n",
              "    </tr>\n",
              "    <tr>\n",
              "      <th>25%</th>\n",
              "      <td>0.000000</td>\n",
              "      <td>1.000000</td>\n",
              "      <td>24.000000</td>\n",
              "      <td>0.000000</td>\n",
              "      <td>0.000000</td>\n",
              "      <td>29.700000</td>\n",
              "    </tr>\n",
              "    <tr>\n",
              "      <th>50%</th>\n",
              "      <td>1.000000</td>\n",
              "      <td>1.000000</td>\n",
              "      <td>36.000000</td>\n",
              "      <td>0.000000</td>\n",
              "      <td>0.000000</td>\n",
              "      <td>57.000000</td>\n",
              "    </tr>\n",
              "    <tr>\n",
              "      <th>75%</th>\n",
              "      <td>1.000000</td>\n",
              "      <td>1.000000</td>\n",
              "      <td>47.750000</td>\n",
              "      <td>1.000000</td>\n",
              "      <td>1.000000</td>\n",
              "      <td>90.000000</td>\n",
              "    </tr>\n",
              "    <tr>\n",
              "      <th>max</th>\n",
              "      <td>1.000000</td>\n",
              "      <td>3.000000</td>\n",
              "      <td>80.000000</td>\n",
              "      <td>3.000000</td>\n",
              "      <td>4.000000</td>\n",
              "      <td>512.329200</td>\n",
              "    </tr>\n",
              "  </tbody>\n",
              "</table>\n",
              "</div>"
            ],
            "text/plain": [
              "         survived      pclass         age       sibsp       parch        fare\n",
              "count  182.000000  182.000000  182.000000  182.000000  182.000000  182.000000\n",
              "mean     0.675824    1.192308   35.623187    0.467033    0.478022   78.919735\n",
              "std      0.469357    0.516411   15.671615    0.645007    0.755869   76.490774\n",
              "min      0.000000    1.000000    0.920000    0.000000    0.000000    0.000000\n",
              "25%      0.000000    1.000000   24.000000    0.000000    0.000000   29.700000\n",
              "50%      1.000000    1.000000   36.000000    0.000000    0.000000   57.000000\n",
              "75%      1.000000    1.000000   47.750000    1.000000    1.000000   90.000000\n",
              "max      1.000000    3.000000   80.000000    3.000000    4.000000  512.329200"
            ]
          },
          "metadata": {
            "tags": []
          },
          "execution_count": 47
        }
      ]
    },
    {
      "cell_type": "code",
      "metadata": {
        "id": "EhR4kQRUgfFA",
        "colab_type": "code",
        "colab": {
          "base_uri": "https://localhost:8080/",
          "height": 1000
        },
        "outputId": "c0f394f6-0178-4fb8-dc61-71d1eb46a9ac"
      },
      "source": [
        "from sklearn.preprocessing import StandardScaler\n",
        "x = data.values[:,1:]\n",
        "x = np.nan_to_num(x)\n",
        "normx = StandardScaler().fit_transform(x)\n",
        "normx\n",
        "#normalisasi"
      ],
      "execution_count": 51,
      "outputs": [
        {
          "output_type": "execute_result",
          "data": {
            "text/plain": [
              "array([[-3.73419645e-01,  1.52081957e-01, -1.00110129e-01],\n",
              "       [-3.73419645e-01, -3.98750185e-02, -3.38484771e-01],\n",
              "       [-3.73419645e-01,  1.17585249e+00, -3.54707823e-01],\n",
              "       [ 3.51014466e+00, -2.02343043e+00, -8.15671915e-01],\n",
              "       [-3.73419645e-01,  1.43179512e+00, -6.86542977e-01],\n",
              "       [ 1.56836251e+00, -1.03860677e-01, -8.64177202e-01],\n",
              "       [-3.73419645e-01, -4.87774627e-01, -5.69212621e-01],\n",
              "       [-3.73419645e-01, -1.06364555e+00,  2.41320703e+00],\n",
              "       [-3.73419645e-01,  8.55924198e-01, -2.87169016e-02],\n",
              "       [-3.73419645e-01,  1.87969473e+00, -2.22082571e-01],\n",
              "       [-3.73419645e-01,  5.99981565e-01,  5.97174125e-02],\n",
              "       [ 1.56836251e+00, -4.23788969e-01, -8.96951044e-01],\n",
              "       [ 3.51014466e+00, -6.79731602e-01, -9.34313224e-01],\n",
              "       [-3.73419645e-01, -8.07702919e-01,  2.41320703e+00],\n",
              "       [-3.73419645e-01,  6.63967223e-01, -2.32625261e-01],\n",
              "       [-3.73419645e-01,  2.26360868e+00, -5.80300668e-01],\n",
              "       [-3.73419645e-01, -8.07702919e-01, -2.04003209e-01],\n",
              "       [-3.73419645e-01, -9.35674235e-01, -2.13978472e-02],\n",
              "       [-3.73419645e-01,  7.27952882e-01, -3.52905262e-01],\n",
              "       [-3.73419645e-01, -7.43717260e-01,  2.21028188e+00],\n",
              "       [ 1.56836251e+00, -1.99839164e-01, -8.64177202e-01],\n",
              "       [-3.73419645e-01,  1.17585249e+00, -2.13978472e-02],\n",
              "       [-3.73419645e-01, -1.06364555e+00, -6.90039290e-01],\n",
              "       [-3.73419645e-01,  8.80962982e-02, -3.38484771e-01],\n",
              "       [-3.73419645e-01, -7.43717260e-01,  3.67414220e-03],\n",
              "       [ 1.56836251e+00,  5.61034690e-02, -6.93753222e-01],\n",
              "       [-3.73419645e-01, -8.71688577e-01, -1.61506023e-01],\n",
              "       [-3.73419645e-01,  1.62375210e+00, -5.95431695e-01],\n",
              "       [-3.73419645e-01,  1.30382381e+00, -6.32193458e-01],\n",
              "       [-3.73419645e-01,  9.19909857e-01, -6.58193603e-01],\n",
              "       [ 1.56836251e+00, -2.21538740e+00, -5.23329242e-01],\n",
              "       [ 1.56836251e+00, -2.08741609e+00, -6.93753222e-01],\n",
              "       [-3.73419645e-01,  5.35995907e-01, -6.71194331e-01],\n",
              "       [-3.73419645e-01,  1.43179512e+00,  8.86218655e-01],\n",
              "       [ 3.51014466e+00, -2.15140174e+00, -8.97442652e-01],\n",
              "       [-3.73419645e-01,  2.80053273e-01, -6.28205537e-01],\n",
              "       [-3.73419645e-01, -2.95817652e-01,  4.50381613e-01],\n",
              "       [-3.73419645e-01, -2.31831994e-01, -3.44523240e-02],\n",
              "       [-3.73419645e-01,  1.52081957e-01,  1.45257141e-01],\n",
              "       [-3.73419645e-01, -3.98750185e-02,  5.97174125e-02],\n",
              "       [-3.73419645e-01,  5.35995907e-01,  1.45257141e-01],\n",
              "       [-3.73419645e-01,  8.80962982e-02, -3.45639957e-01],\n",
              "       [ 3.51014466e+00, -4.23788969e-01, -8.97442652e-01],\n",
              "       [-3.73419645e-01,  1.68773776e+00, -6.86542977e-01],\n",
              "       [-3.73419645e-01, -3.59803310e-01,  9.93737617e-02],\n",
              "       [-3.73419645e-01,  1.04788117e+00,  9.57343382e-03],\n",
              "       [-3.73419645e-01,  2.80053273e-01, -1.03460118e+00],\n",
              "       [-3.73419645e-01,  1.43179512e+00,  9.77221128e-01],\n",
              "       [-3.73419645e-01, -3.98750185e-02,  7.43488572e-01],\n",
              "       [-3.73419645e-01,  8.80962982e-02, -6.45247935e-01],\n",
              "       [-3.73419645e-01,  1.75172342e+00, -1.26039698e-02],\n",
              "       [-3.73419645e-01, -1.06364555e+00,  1.59404953e-01],\n",
              "       [ 1.56836251e+00,  2.41106398e-02, -8.65815894e-01],\n",
              "       [-3.73419645e-01, -2.15140174e+00,  9.52149138e-01],\n",
              "       [-3.73419645e-01,  9.19909857e-01,  2.21028188e+00],\n",
              "       [-3.73419645e-01, -2.22050625e+00,  9.52149138e-01],\n",
              "       [-3.73419645e-01, -1.19161687e+00,  3.93027389e-01],\n",
              "       [-3.73419645e-01, -3.59803310e-01, -2.88285733e-01],\n",
              "       [-3.73419645e-01, -7.43717260e-01,  5.55656222e-02],\n",
              "       [-3.73419645e-01, -1.12763121e+00,  2.40501357e+00],\n",
              "       [-3.73419645e-01, -2.95817652e-01,  1.12672491e+00],\n",
              "       [-3.73419645e-01,  2.80053273e-01,  7.28631534e-01],\n",
              "       [-3.73419645e-01,  2.41106398e-02,  7.43488572e-01],\n",
              "       [ 1.56836251e+00,  2.41106398e-02, -8.64177202e-01],\n",
              "       [-3.73419645e-01, -1.25560253e+00, -2.74520719e-01],\n",
              "       [-3.73419645e-01,  6.31974394e-01, -6.60979380e-01],\n",
              "       [-3.73419645e-01,  1.52081957e-01,  9.77221128e-01],\n",
              "       [-3.73419645e-01, -4.23788969e-01, -1.61506023e-01],\n",
              "       [-3.73419645e-01,  3.44038932e-01,  7.28631534e-01],\n",
              "       [ 1.56836251e+00, -2.15140174e+00, -6.93753222e-01],\n",
              "       [-3.73419645e-01, -7.43717260e-01,  2.41320703e+00],\n",
              "       [ 1.56836251e+00, -7.43717260e-01, -8.64177202e-01],\n",
              "       [-3.73419645e-01, -8.71688577e-01, -3.13576651e-01],\n",
              "       [-3.73419645e-01,  1.55976644e+00, -4.81085286e-02],\n",
              "       [-3.73419645e-01, -7.43717260e-01, -1.26110273e-01],\n",
              "       [-3.73419645e-01, -6.79731602e-01, -3.07786169e-01],\n",
              "       [-3.73419645e-01, -5.51760285e-01,  1.73806588e+00],\n",
              "       [-3.73419645e-01,  2.41106398e-02,  5.38543249e-01],\n",
              "       [-3.73419645e-01, -8.07702919e-01,  4.50381613e-01],\n",
              "       [ 3.51014466e+00, -7.43717260e-01, -8.15671915e-01],\n",
              "       [-3.73419645e-01, -1.67846335e-01,  1.45257141e-01],\n",
              "       [ 3.51014466e+00, -2.31831994e-01, -9.29069410e-01],\n",
              "       [-3.73419645e-01, -4.87774627e-01, -6.86542977e-01],\n",
              "       [-3.73419645e-01,  9.19909857e-01, -3.01778068e-01],\n",
              "       [-3.73419645e-01, -1.38357384e+00,  5.38543249e-01],\n",
              "       [-3.73419645e-01,  1.81570907e+00,  2.41320703e+00],\n",
              "       [-3.73419645e-01, -2.02343043e+00,  3.85232242e-02],\n",
              "       [-3.73419645e-01,  1.04788117e+00, -6.34760306e-01],\n",
              "       [-3.73419645e-01, -3.59803310e-01, -6.70811532e-01],\n",
              "       [-3.73419645e-01,  8.55924198e-01,  1.33513618e-01],\n",
              "       [-3.73419645e-01,  1.87969473e+00, -6.86542977e-01],\n",
              "       [-3.73419645e-01,  7.91938540e-01, -6.86542977e-01],\n",
              "       [-3.73419645e-01,  7.27952882e-01, -5.29884010e-01],\n",
              "       [ 1.56836251e+00, -8.07702919e-01, -8.53798382e-01],\n",
              "       [-3.73419645e-01, -6.79731602e-01,  1.59404953e-01],\n",
              "       [-3.73419645e-01, -3.98750185e-02,  1.45257141e-01],\n",
              "       [-3.73419645e-01,  1.43179512e+00, -6.45247935e-01],\n",
              "       [-3.73419645e-01,  1.23983815e+00, -6.34760306e-01],\n",
              "       [-3.73419645e-01,  1.17585249e+00, -8.56098860e-03],\n",
              "       [-3.73419645e-01, -6.79731602e-01,  9.52149138e-01],\n",
              "       [-3.73419645e-01, -1.25560253e+00,  9.93737617e-02],\n",
              "       [-3.73419645e-01, -1.12763121e+00,  3.93027389e-01],\n",
              "       [-3.73419645e-01,  2.41106398e-02, -6.89984230e-01],\n",
              "       [-3.73419645e-01,  7.27952882e-01, -5.88604248e-01],\n",
              "       [ 1.56836251e+00, -1.03860677e-01, -8.96951044e-01],\n",
              "       [-3.73419645e-01, -3.59803310e-01,  1.91140520e-01],\n",
              "       [-3.73419645e-01,  5.35995907e-01, -2.74520719e-01],\n",
              "       [-3.73419645e-01,  5.99981565e-01, -6.86542977e-01],\n",
              "       [-3.73419645e-01, -8.71688577e-01, -3.85679104e-01],\n",
              "       [-3.73419645e-01,  2.41106398e-02, -1.03824061e-01],\n",
              "       [-3.73419645e-01,  9.19909857e-01,  3.60581285e-01],\n",
              "       [-3.73419645e-01, -1.19161687e+00,  4.19027533e-01],\n",
              "       [-3.73419645e-01,  7.91938540e-01, -5.15463520e-01],\n",
              "       [-3.73419645e-01,  2.16067615e-01,  9.57343382e-03],\n",
              "       [-3.73419645e-01,  1.11186683e+00, -3.59732709e-01],\n",
              "       [-3.73419645e-01,  2.41106398e-02, -6.88673276e-01],\n",
              "       [-3.73419645e-01,  2.16067615e-01, -3.01778068e-01],\n",
              "       [-3.73419645e-01,  2.16067615e-01,  4.19027533e-01],\n",
              "       [-3.73419645e-01,  2.41106398e-02, -5.08581013e-01],\n",
              "       [-3.73419645e-01, -1.12763121e+00,  9.57343382e-03],\n",
              "       [-3.73419645e-01,  1.55976644e+00,  3.67414220e-03],\n",
              "       [-3.73419645e-01,  1.04788117e+00, -8.56098860e-03],\n",
              "       [-3.73419645e-01,  8.55924198e-01, -2.88285733e-01],\n",
              "       [-3.73419645e-01,  2.80053273e-01,  9.77221128e-01],\n",
              "       [ 1.56836251e+00, -2.02343043e+00, -5.23329242e-01],\n",
              "       [-3.73419645e-01,  4.08024590e-01, -3.45639957e-01],\n",
              "       [-3.73419645e-01,  1.62375210e+00, -6.10890461e-01],\n",
              "       [-3.73419645e-01, -9.35674235e-01, -1.26039698e-02],\n",
              "       [-3.73419645e-01,  2.83947961e+00, -6.41315074e-01],\n",
              "       [-3.73419645e-01, -2.31831994e-01, -6.34760306e-01],\n",
              "       [-3.73419645e-01, -7.43717260e-01, -1.26110273e-01],\n",
              "       [-3.73419645e-01,  7.91938540e-01, -2.87169016e-02],\n",
              "       [-3.73419645e-01,  1.30382381e+00, -5.69212621e-01],\n",
              "       [-3.73419645e-01,  1.43179512e+00,  4.50381613e-01],\n",
              "       [-3.73419645e-01,  7.27952882e-01, -6.99160906e-01],\n",
              "       [-3.73419645e-01, -2.95817652e-01, -3.52905262e-01],\n",
              "       [-3.73419645e-01,  2.41106398e-02,  5.68179738e+00],\n",
              "       [-3.73419645e-01, -5.51760285e-01, -2.87169016e-02],\n",
              "       [-3.73419645e-01, -1.31958819e+00,  1.73593558e+00],\n",
              "       [-3.73419645e-01, -2.95817652e-01, -2.87357577e-01],\n",
              "       [-3.73419645e-01,  8.55924198e-01,  4.19027533e-01],\n",
              "       [ 3.51014466e+00,  4.08024590e-01, -9.34313224e-01],\n",
              "       [-3.73419645e-01, -1.12763121e+00,  1.94814621e+00],\n",
              "       [-3.73419645e-01, -3.98750185e-02, -6.89984230e-01],\n",
              "       [-3.73419645e-01,  4.08024590e-01, -6.89984230e-01],\n",
              "       [-3.73419645e-01, -7.43717260e-01, -3.85624044e-01],\n",
              "       [-3.73419645e-01,  7.91938540e-01, -3.52905262e-01],\n",
              "       [ 3.51014466e+00, -1.06364555e+00, -9.34313224e-01],\n",
              "       [-3.73419645e-01,  1.52081957e-01,  1.94814621e+00],\n",
              "       [ 1.56836251e+00, -5.51760285e-01, -8.96951044e-01],\n",
              "       [-3.73419645e-01, -5.51760285e-01, -3.38484771e-01],\n",
              "       [-3.73419645e-01, -4.23788969e-01,  1.73593558e+00],\n",
              "       [-3.73419645e-01, -3.98750185e-02,  5.68179738e+00],\n",
              "       [-3.73419645e-01,  2.41106398e-02, -9.14195718e-04],\n",
              "       [-3.73419645e-01, -9.35674235e-01,  2.40501357e+00],\n",
              "       [-3.73419645e-01,  2.19962302e+00, -1.03824061e-01],\n",
              "       [-3.73419645e-01, -1.06364555e+00, -3.38484771e-01],\n",
              "       [ 3.51014466e+00, -1.89545911e+00, -8.71059709e-01],\n",
              "       [-3.73419645e-01, -1.67846335e-01,  9.93737617e-02],\n",
              "       [-3.73419645e-01,  2.41106398e-02,  5.38543249e-01],\n",
              "       [-3.73419645e-01,  9.83895515e-01, -1.26039698e-02],\n",
              "       [ 1.56836251e+00,  1.36780947e+00, -8.96951044e-01],\n",
              "       [-3.73419645e-01,  4.72010248e-01,  1.73593558e+00],\n",
              "       [-3.73419645e-01, -1.19161687e+00, -2.87357577e-01],\n",
              "       [-3.73419645e-01, -4.23788969e-01, -6.41315074e-01],\n",
              "       [-3.73419645e-01,  6.63967223e-01,  3.67414220e-03],\n",
              "       [-3.73419645e-01,  8.55924198e-01, -6.94681377e-01],\n",
              "       [-3.73419645e-01, -1.57553082e+00,  5.38543249e-01],\n",
              "       [-3.73419645e-01,  2.16067615e-01, -1.03460118e+00],\n",
              "       [-3.73419645e-01, -1.67846335e-01, -3.38484771e-01],\n",
              "       [-3.73419645e-01,  1.04788117e+00,  1.91140520e-01],\n",
              "       [ 3.51014466e+00, -5.51760285e-01, -8.71059709e-01],\n",
              "       [-3.73419645e-01,  2.16067615e-01,  5.55656222e-02],\n",
              "       [-3.73419645e-01, -1.25560253e+00, -5.18085427e-01],\n",
              "       [-3.73419645e-01,  9.83895515e-01, -6.86542977e-01],\n",
              "       [-3.73419645e-01,  7.91938540e-01, -6.94681377e-01],\n",
              "       [-3.73419645e-01, -2.95817652e-01, -3.72624627e-01],\n",
              "       [-3.73419645e-01,  7.27952882e-01, -3.45639957e-01],\n",
              "       [-3.73419645e-01, -1.67846335e-01, -9.69053497e-01],\n",
              "       [-3.73419645e-01,  1.30382381e+00,  5.55656222e-02],\n",
              "       [-3.73419645e-01, -1.06364555e+00, -6.41315074e-01],\n",
              "       [-3.73419645e-01, -6.15745944e-01, -6.41315074e-01]])"
            ]
          },
          "metadata": {
            "tags": []
          },
          "execution_count": 51
        }
      ]
    },
    {
      "cell_type": "code",
      "metadata": {
        "id": "zbCNyMhmc9LB",
        "colab_type": "code",
        "colab": {
          "base_uri": "https://localhost:8080/",
          "height": 102
        },
        "outputId": "7e903d79-a7d5-44d7-9d8b-c997936f0f4a"
      },
      "source": [
        "clusterNum = 3\n",
        "kmeans = KMeans(init = 'k-means++', n_clusters=clusterNum, n_init=12)\n",
        "kmeans.fit(x)\n",
        "labels = kmeans.labels_\n",
        "print(labels)\n",
        "#proses klasteriasi menggunakan kmeans"
      ],
      "execution_count": 52,
      "outputs": [
        {
          "output_type": "stream",
          "text": [
            "[2 0 0 0 0 0 0 1 2 0 2 0 0 1 0 0 0 2 0 1 0 2 0 0 2 0 2 0 0 0 0 0 0 2 0 0 2\n",
            " 2 2 2 2 0 0 0 2 2 0 2 2 0 2 2 0 2 1 2 2 0 2 1 2 2 2 0 0 0 2 2 2 0 1 0 0 2\n",
            " 2 0 1 2 2 0 2 0 0 0 2 1 2 0 0 2 0 0 0 0 2 2 0 0 2 2 2 2 0 0 0 2 0 0 0 2 2\n",
            " 2 0 2 0 0 0 2 0 2 2 2 0 2 0 0 0 2 0 0 2 2 0 2 0 0 1 2 1 0 2 0 1 0 0 0 0 0\n",
            " 1 0 0 1 1 2 1 2 0 0 2 2 2 0 1 0 0 2 0 2 0 0 2 0 2 0 0 0 0 0 0 2 0 0]\n"
          ],
          "name": "stdout"
        }
      ]
    },
    {
      "cell_type": "code",
      "metadata": {
        "id": "9Q--tIQNdNFC",
        "colab_type": "code",
        "colab": {
          "base_uri": "https://localhost:8080/",
          "height": 461
        },
        "outputId": "b61a7d85-36f1-4325-b55a-15b272763323"
      },
      "source": [
        "data['cluster'] = labels\n",
        "data.head(10)"
      ],
      "execution_count": 57,
      "outputs": [
        {
          "output_type": "stream",
          "text": [
            "/usr/local/lib/python3.6/dist-packages/ipykernel_launcher.py:1: SettingWithCopyWarning: \n",
            "A value is trying to be set on a copy of a slice from a DataFrame.\n",
            "Try using .loc[row_indexer,col_indexer] = value instead\n",
            "\n",
            "See the caveats in the documentation: http://pandas.pydata.org/pandas-docs/stable/indexing.html#indexing-view-versus-copy\n",
            "  \"\"\"Entry point for launching an IPython kernel.\n"
          ],
          "name": "stderr"
        },
        {
          "output_type": "execute_result",
          "data": {
            "text/html": [
              "<div>\n",
              "<style scoped>\n",
              "    .dataframe tbody tr th:only-of-type {\n",
              "        vertical-align: middle;\n",
              "    }\n",
              "\n",
              "    .dataframe tbody tr th {\n",
              "        vertical-align: top;\n",
              "    }\n",
              "\n",
              "    .dataframe thead th {\n",
              "        text-align: right;\n",
              "    }\n",
              "</style>\n",
              "<table border=\"1\" class=\"dataframe\">\n",
              "  <thead>\n",
              "    <tr style=\"text-align: right;\">\n",
              "      <th></th>\n",
              "      <th>survived</th>\n",
              "      <th>pclass</th>\n",
              "      <th>age</th>\n",
              "      <th>fare</th>\n",
              "      <th>cluster</th>\n",
              "    </tr>\n",
              "  </thead>\n",
              "  <tbody>\n",
              "    <tr>\n",
              "      <th>0</th>\n",
              "      <td>1</td>\n",
              "      <td>1</td>\n",
              "      <td>38.0</td>\n",
              "      <td>71.2833</td>\n",
              "      <td>2</td>\n",
              "    </tr>\n",
              "    <tr>\n",
              "      <th>1</th>\n",
              "      <td>1</td>\n",
              "      <td>1</td>\n",
              "      <td>35.0</td>\n",
              "      <td>53.1000</td>\n",
              "      <td>0</td>\n",
              "    </tr>\n",
              "    <tr>\n",
              "      <th>2</th>\n",
              "      <td>0</td>\n",
              "      <td>1</td>\n",
              "      <td>54.0</td>\n",
              "      <td>51.8625</td>\n",
              "      <td>0</td>\n",
              "    </tr>\n",
              "    <tr>\n",
              "      <th>3</th>\n",
              "      <td>1</td>\n",
              "      <td>3</td>\n",
              "      <td>4.0</td>\n",
              "      <td>16.7000</td>\n",
              "      <td>0</td>\n",
              "    </tr>\n",
              "    <tr>\n",
              "      <th>4</th>\n",
              "      <td>1</td>\n",
              "      <td>1</td>\n",
              "      <td>58.0</td>\n",
              "      <td>26.5500</td>\n",
              "      <td>0</td>\n",
              "    </tr>\n",
              "    <tr>\n",
              "      <th>5</th>\n",
              "      <td>1</td>\n",
              "      <td>2</td>\n",
              "      <td>34.0</td>\n",
              "      <td>13.0000</td>\n",
              "      <td>0</td>\n",
              "    </tr>\n",
              "    <tr>\n",
              "      <th>6</th>\n",
              "      <td>1</td>\n",
              "      <td>1</td>\n",
              "      <td>28.0</td>\n",
              "      <td>35.5000</td>\n",
              "      <td>0</td>\n",
              "    </tr>\n",
              "    <tr>\n",
              "      <th>7</th>\n",
              "      <td>0</td>\n",
              "      <td>1</td>\n",
              "      <td>19.0</td>\n",
              "      <td>263.0000</td>\n",
              "      <td>1</td>\n",
              "    </tr>\n",
              "    <tr>\n",
              "      <th>8</th>\n",
              "      <td>1</td>\n",
              "      <td>1</td>\n",
              "      <td>49.0</td>\n",
              "      <td>76.7292</td>\n",
              "      <td>2</td>\n",
              "    </tr>\n",
              "    <tr>\n",
              "      <th>9</th>\n",
              "      <td>0</td>\n",
              "      <td>1</td>\n",
              "      <td>65.0</td>\n",
              "      <td>61.9792</td>\n",
              "      <td>0</td>\n",
              "    </tr>\n",
              "  </tbody>\n",
              "</table>\n",
              "</div>"
            ],
            "text/plain": [
              "   survived  pclass   age      fare  cluster\n",
              "0         1       1  38.0   71.2833        2\n",
              "1         1       1  35.0   53.1000        0\n",
              "2         0       1  54.0   51.8625        0\n",
              "3         1       3   4.0   16.7000        0\n",
              "4         1       1  58.0   26.5500        0\n",
              "5         1       2  34.0   13.0000        0\n",
              "6         1       1  28.0   35.5000        0\n",
              "7         0       1  19.0  263.0000        1\n",
              "8         1       1  49.0   76.7292        2\n",
              "9         0       1  65.0   61.9792        0"
            ]
          },
          "metadata": {
            "tags": []
          },
          "execution_count": 57
        }
      ]
    },
    {
      "cell_type": "code",
      "metadata": {
        "id": "uyykFMhCeAQA",
        "colab_type": "code",
        "colab": {
          "base_uri": "https://localhost:8080/",
          "height": 173
        },
        "outputId": "984a9918-81a1-4c3b-f899-17c8fe9198b9"
      },
      "source": [
        "data.groupby('cluster').mean()"
      ],
      "execution_count": 54,
      "outputs": [
        {
          "output_type": "execute_result",
          "data": {
            "text/html": [
              "<div>\n",
              "<style scoped>\n",
              "    .dataframe tbody tr th:only-of-type {\n",
              "        vertical-align: middle;\n",
              "    }\n",
              "\n",
              "    .dataframe tbody tr th {\n",
              "        vertical-align: top;\n",
              "    }\n",
              "\n",
              "    .dataframe thead th {\n",
              "        text-align: right;\n",
              "    }\n",
              "</style>\n",
              "<table border=\"1\" class=\"dataframe\">\n",
              "  <thead>\n",
              "    <tr style=\"text-align: right;\">\n",
              "      <th></th>\n",
              "      <th>survived</th>\n",
              "      <th>pclass</th>\n",
              "      <th>age</th>\n",
              "      <th>fare</th>\n",
              "    </tr>\n",
              "    <tr>\n",
              "      <th>cluster</th>\n",
              "      <th></th>\n",
              "      <th></th>\n",
              "      <th></th>\n",
              "      <th></th>\n",
              "    </tr>\n",
              "  </thead>\n",
              "  <tbody>\n",
              "    <tr>\n",
              "      <th>0</th>\n",
              "      <td>0.608247</td>\n",
              "      <td>1.360825</td>\n",
              "      <td>36.479381</td>\n",
              "      <td>32.780888</td>\n",
              "    </tr>\n",
              "    <tr>\n",
              "      <th>1</th>\n",
              "      <td>0.750000</td>\n",
              "      <td>1.000000</td>\n",
              "      <td>30.250000</td>\n",
              "      <td>274.813281</td>\n",
              "    </tr>\n",
              "    <tr>\n",
              "      <th>2</th>\n",
              "      <td>0.753623</td>\n",
              "      <td>1.000000</td>\n",
              "      <td>35.665507</td>\n",
              "      <td>98.357003</td>\n",
              "    </tr>\n",
              "  </tbody>\n",
              "</table>\n",
              "</div>"
            ],
            "text/plain": [
              "         survived    pclass        age        fare\n",
              "cluster                                           \n",
              "0        0.608247  1.360825  36.479381   32.780888\n",
              "1        0.750000  1.000000  30.250000  274.813281\n",
              "2        0.753623  1.000000  35.665507   98.357003"
            ]
          },
          "metadata": {
            "tags": []
          },
          "execution_count": 54
        }
      ]
    },
    {
      "cell_type": "code",
      "metadata": {
        "id": "HHwcZPETed7X",
        "colab_type": "code",
        "colab": {
          "base_uri": "https://localhost:8080/",
          "height": 204
        },
        "outputId": "5d2f5b99-a8e7-4836-ced7-a723749bc79a"
      },
      "source": [
        "x.shape\n",
        "x[:,0]"
      ],
      "execution_count": 62,
      "outputs": [
        {
          "output_type": "execute_result",
          "data": {
            "text/plain": [
              "array([1., 1., 1., 3., 1., 2., 1., 1., 1., 1., 1., 2., 3., 1., 1., 1., 1.,\n",
              "       1., 1., 1., 2., 1., 1., 1., 1., 2., 1., 1., 1., 1., 2., 2., 1., 1.,\n",
              "       3., 1., 1., 1., 1., 1., 1., 1., 3., 1., 1., 1., 1., 1., 1., 1., 1.,\n",
              "       1., 2., 1., 1., 1., 1., 1., 1., 1., 1., 1., 1., 2., 1., 1., 1., 1.,\n",
              "       1., 2., 1., 2., 1., 1., 1., 1., 1., 1., 1., 3., 1., 3., 1., 1., 1.,\n",
              "       1., 1., 1., 1., 1., 1., 1., 1., 2., 1., 1., 1., 1., 1., 1., 1., 1.,\n",
              "       1., 1., 2., 1., 1., 1., 1., 1., 1., 1., 1., 1., 1., 1., 1., 1., 1.,\n",
              "       1., 1., 1., 1., 1., 2., 1., 1., 1., 1., 1., 1., 1., 1., 1., 1., 1.,\n",
              "       1., 1., 1., 1., 1., 3., 1., 1., 1., 1., 1., 3., 1., 2., 1., 1., 1.,\n",
              "       1., 1., 1., 1., 3., 1., 1., 1., 2., 1., 1., 1., 1., 1., 1., 1., 1.,\n",
              "       1., 3., 1., 1., 1., 1., 1., 1., 1., 1., 1., 1.])"
            ]
          },
          "metadata": {
            "tags": []
          },
          "execution_count": 62
        }
      ]
    },
    {
      "cell_type": "code",
      "metadata": {
        "id": "RyJcDubgdTSW",
        "colab_type": "code",
        "colab": {
          "base_uri": "https://localhost:8080/",
          "height": 291
        },
        "outputId": "6d755b0f-6b5c-4cba-e519-c6aac53d9743"
      },
      "source": [
        "area = np.pi * ( x[:, 1])**2  \n",
        "plt.scatter(x[:, 0], x[:, 2], s=area, c=labels.astype(np.float), alpha=0.5)\n",
        "plt.xlabel('P Class', fontsize=18)\n",
        "plt.ylabel('Fare', fontsize=16)\n",
        "\n",
        "plt.show()"
      ],
      "execution_count": 63,
      "outputs": [
        {
          "output_type": "display_data",
          "data": {
            "image/png": "[encoded data removed]",
            "text/plain": [
              "<Figure size 432x288 with 1 Axes>"
            ]
          },
          "metadata": {
            "tags": []
          }
        }
      ]
    },
    {
      "cell_type": "code",
      "metadata": {
        "id": "Ktk0QIb0eMDG",
        "colab_type": "code",
        "colab": {
          "base_uri": "https://localhost:8080/",
          "height": 480
        },
        "outputId": "2aeb20ef-9799-4c7f-96c1-f4a35aa8c717"
      },
      "source": [
        "from mpl_toolkits.mplot3d import Axes3D \n",
        "fig = plt.figure(1, figsize=(8, 6))\n",
        "plt.clf()\n",
        "ax = Axes3D(fig, rect=[0, 0, .95, 1], elev=48, azim=134)\n",
        "\n",
        "plt.cla()\n",
        "# plt.ylabel('Age', fontsize=18)\n",
        "# plt.xlabel('Income', fontsize=16)\n",
        "# plt.zlabel('Education', fontsize=16)\n",
        "ax.set_xlabel('P Clss')\n",
        "ax.set_ylabel('Age')\n",
        "ax.set_zlabel('Fare')\n",
        "\n",
        "ax.scatter(x[:, 0], x[:, 1], x[:, 2], c= labels.astype(np.float))"
      ],
      "execution_count": 65,
      "outputs": [
        {
          "output_type": "execute_result",
          "data": {
            "text/plain": [
              "<mpl_toolkits.mplot3d.art3d.Path3DCollection at 0x7fc45709b6d8>"
            ]
          },
          "metadata": {
            "tags": []
          },
          "execution_count": 65
        },
        {
          "output_type": "display_data",
          "data": {
            "image/png": "[encoded data removed]",
            "text/plain": [
              "<Figure size 576x432 with 1 Axes>"
            ]
          },
          "metadata": {
            "tags": []
          }
        }
      ]
    },
    {
      "cell_type": "code",
      "metadata": {
        "id": "zgQIk6q0k2GU",
        "colab_type": "code",
        "colab": {}
      },
      "source": [
        ""
      ],
      "execution_count": 0,
      "outputs": []
    }
  ]
}